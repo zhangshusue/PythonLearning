{
 "cells": [
  {
   "cell_type": "markdown",
   "metadata": {},
   "source": [
    "## Summary for Python Basics: Tuples, Lists, Dictionary and Sets."
   ]
  },
  {
   "cell_type": "markdown",
   "metadata": {},
   "source": [
    "| Sequence Type | creation | index(position)?  | mutable?     |  operation |\n",
    "| ------------- |:--------:| -----------------:| ------------:| :----------|\n",
    "|      **Tuple**    | `tuple = (1, 2, 'string')`   | `tuple[0]`, `type[1][2]` | immutable, `tuple_sorted=sorted(tuple)` | Cancatenate: `tuple1+tuple2` <br> Slicing: `tuple[0:3]` <br> Length: `len(tuple)`  |\n",
    "|       **List**    | `list = [1. 1. 'string' , ('list') ]` |   `list[0]`, `list[2][0]` |   yes, `list[4]=(new_value)`  |  Index:`list.index('string')` <br>  Cancatenate: list1+lis2 <br> Extend: `list.extend( )` <br> Append: `list.append()`  <br> Replace: `list[1]='string'`  <br> Delete: `del(list[1])` <br> Split: `list.split(',')` <br> Aliasing: `list_alias=list` (list_alias changes if list revised) <br> Clone: `list_clone=list[:]` (list_clone not change if list changes) |\n",
    "|    **Dictionary** | `dict = {'key1': element1, 'key2', element2, ...}` <br> element can be any daya type, tuple or list.  |    `dict['key1']` <br> `dict.keys()` <br>  `dict.values()`  |  yes, `dict['key']= new_value` |  Add: `dict['NewKey']='NewValue'` <br> Delete: `del(dict['key']` <br> Verify Key: `'key' in dict`\n",
    "|       **Set**     | `set={'element1', 'element2', ...}` <br>  convert a `list` to a `set`: `set = set(list)`  <br> element can be any data type |  no index, self-ordered | yes | Add an element: `set.add(new_value)`  <br> Remove an element: `set.remove(element)` <br> Verify element in a set: `'element' in set` <br> Intersection: `set1&set2` or `set1.intersection(set2)` <br> Difference: `set1.difference(set2)` (elementin set1 but not set2) <br> Union: `set1.union(set2)` <br> Subset: `set2.issuperset(set1)` <br> Superset: `set2.issuperset(set1)`"
   ]
  },
  {
   "cell_type": "markdown",
   "metadata": {},
   "source": [
    "**Don't forget, we can always use `help()` function to get to know more about these sequences.**"
   ]
  }
 ],
 "metadata": {
  "kernelspec": {
   "display_name": "Python 3",
   "language": "python",
   "name": "python3"
  },
  "language_info": {
   "codemirror_mode": {
    "name": "ipython",
    "version": 3
   },
   "file_extension": ".py",
   "mimetype": "text/x-python",
   "name": "python",
   "nbconvert_exporter": "python",
   "pygments_lexer": "ipython3",
   "version": "3.7.6"
  }
 },
 "nbformat": 4,
 "nbformat_minor": 4
}
